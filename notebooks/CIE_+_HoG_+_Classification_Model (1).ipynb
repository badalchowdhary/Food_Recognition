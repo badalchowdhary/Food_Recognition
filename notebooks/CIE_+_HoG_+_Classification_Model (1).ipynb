{
  "cells": [
    {
      "cell_type": "code",
      "execution_count": 108,
      "metadata": {
        "colab": {
          "base_uri": "https://localhost:8080/"
        },
        "id": "qOJMe2zdsRnz",
        "outputId": "767e2af6-ccc8-429e-c589-63475b0c9e12"
      },
      "outputs": [
        {
          "output_type": "stream",
          "name": "stdout",
          "text": [
            "Drive already mounted at /content/drive/; to attempt to forcibly remount, call drive.mount(\"/content/drive/\", force_remount=True).\n"
          ]
        }
      ],
      "source": [
        "from google.colab import drive\n",
        "drive.mount('/content/drive/')"
      ]
    },
    {
      "cell_type": "code",
      "source": [
        "import cv2\n",
        "import glob\n",
        "import numpy as np\n",
        "from google.colab.patches import cv2_imshow\n",
        "import matplotlib.pyplot as plt\n",
        "from PIL import Image\n",
        "import pandas as pd\n",
        "from tqdm import tqdm\n",
        "from sklearn.model_selection import train_test_split\n",
        "from sklearn.linear_model import LogisticRegression\n",
        "from sklearn.ensemble import RandomForestClassifier\n",
        "from sklearn.neighbors import KNeighborsClassifier\n",
        "from sklearn.svm import SVC\n",
        "from sklearn.metrics import accuracy_score\n",
        "from sklearn.preprocessing import StandardScaler, LabelEncoder\n",
        "import tensorflow as tf"
      ],
      "metadata": {
        "id": "BRxEwYosg3qh"
      },
      "execution_count": 109,
      "outputs": []
    },
    {
      "cell_type": "code",
      "execution_count": 110,
      "metadata": {
        "id": "k6Yihbh7mRVu",
        "colab": {
          "base_uri": "https://localhost:8080/"
        },
        "outputId": "7d12cfea-3120-4737-a367-4ffbf284ae40"
      },
      "outputs": [
        {
          "output_type": "execute_result",
          "data": {
            "text/plain": [
              "6170"
            ]
          },
          "metadata": {},
          "execution_count": 110
        }
      ],
      "source": [
        "images = glob.glob(\"/content/drive/MyDrive/CS_499/new_dataset/**/*.jpg\")\n",
        "len(images)"
      ]
    },
    {
      "cell_type": "code",
      "source": [
        "dataset = {}\n",
        "for img in images:\n",
        "  class_name = img.split('/')[-2]\n",
        "  if class_name in dataset:\n",
        "    dataset[class_name].append(img)\n",
        "  else:\n",
        "    dataset[class_name] = [img]"
      ],
      "metadata": {
        "id": "bbQ20b5TpylF"
      },
      "execution_count": 111,
      "outputs": []
    },
    {
      "cell_type": "code",
      "source": [
        "bin_n = 16\n",
        "def hog(img):\n",
        "    gx = cv2.Sobel(img, cv2.CV_32F, 1, 0)\n",
        "    gy = cv2.Sobel(img, cv2.CV_32F, 0, 1)\n",
        "    mag, ang = cv2.cartToPolar(gx, gy)\n",
        "    bins = np.int32(bin_n*ang/(2*np.pi))\n",
        "    bin_cells = bins[:10,:10], bins[10:,:10], bins[:10,10:], bins[10:,10:]\n",
        "    mag_cells = mag[:10,:10], mag[10:,:10], mag[:10,10:], mag[10:,10:]\n",
        "    hists = [np.bincount(b.ravel(), m.ravel(), bin_n) for b, m in zip(bin_cells, mag_cells)]\n",
        "    hist = np.hstack(hists)\n",
        "    return hist"
      ],
      "metadata": {
        "id": "HLFAyJtEhCbY"
      },
      "execution_count": 112,
      "outputs": []
    },
    {
      "cell_type": "code",
      "source": [
        "hog_data = []\n",
        "def convert_to_lab(image):\n",
        "    lab_image = cv2.cvtColor(image, cv2.COLOR_RGB2LAB)\n",
        "    return lab_image\n",
        "\n",
        "for class_name, img_list in tqdm(dataset.items(), desc=\"Processing images\"):\n",
        "    for img_path in img_list:\n",
        "        img = np.array(Image.open(img_path))\n",
        "        img_gray = np.mean(img, axis=-1)\n",
        "        non_black_coords = np.column_stack(np.where(img_gray > 0))\n",
        "        top_left = np.min(non_black_coords, axis=0)\n",
        "        bottom_right = np.max(non_black_coords, axis=0)\n",
        "        cropped_img = img[top_left[0]:bottom_right[0]+1, top_left[1]:bottom_right[1]+1, :]\n",
        "        # hog_features = hog(cropped_img)\n",
        "        lab_img = convert_to_lab(cropped_img)\n",
        "        hog_features = hog(lab_img)\n",
        "        # hog_features = hog(img)\n",
        "        hog_data.append({'Class': class_name, 'HOG': hog_features})\n",
        "df = pd.DataFrame(hog_data)"
      ],
      "metadata": {
        "colab": {
          "base_uri": "https://localhost:8080/"
        },
        "id": "cuN-eaDpmenj",
        "outputId": "ce51bb81-fc23-4541-d63b-c7882824073d"
      },
      "execution_count": 130,
      "outputs": [
        {
          "output_type": "stream",
          "name": "stderr",
          "text": [
            "Processing images: 100%|██████████| 8/8 [00:56<00:00,  7.05s/it]\n"
          ]
        }
      ]
    },
    {
      "cell_type": "code",
      "source": [
        "df.to_csv(\"df.csv\")"
      ],
      "metadata": {
        "id": "SeuXhYND2UGn"
      },
      "execution_count": 131,
      "outputs": []
    },
    {
      "cell_type": "code",
      "source": [
        "df_hog_features = pd.DataFrame(df['HOG'].tolist(), columns=[f'HOG_{i}' for i in range(len(df['HOG'].iloc[0]))])\n",
        "df = pd.concat([df, df_hog_features], axis=1)\n",
        "df = df.drop(['HOG'], axis=1)"
      ],
      "metadata": {
        "id": "jxyYIskZe2PT"
      },
      "execution_count": 132,
      "outputs": []
    },
    {
      "cell_type": "code",
      "source": [
        "df"
      ],
      "metadata": {
        "colab": {
          "base_uri": "https://localhost:8080/",
          "height": 443
        },
        "id": "dIx3on6oNUlE",
        "outputId": "327b119e-fb9e-4a7d-9c39-cc8a79471b58"
      },
      "execution_count": 133,
      "outputs": [
        {
          "output_type": "execute_result",
          "data": {
            "text/plain": [
              "                     Class  HOG_0  HOG_1  HOG_2  HOG_3  HOG_4  HOG_5  HOG_6  \\\n",
              "0          inhouse_unbaked    0.0    0.0    0.0    0.0    0.0    0.0    0.0   \n",
              "1          inhouse_unbaked    0.0    0.0    0.0    0.0    0.0    0.0    0.0   \n",
              "2          inhouse_unbaked    0.0    0.0    0.0    0.0    0.0    0.0    0.0   \n",
              "3          inhouse_unbaked    0.0    0.0    0.0    0.0    0.0    0.0    0.0   \n",
              "4          inhouse_unbaked    0.0    0.0    0.0    0.0    0.0    0.0    0.0   \n",
              "...                    ...    ...    ...    ...    ...    ...    ...    ...   \n",
              "6165  commercial_deep_over    0.0    0.0    0.0    0.0    0.0    0.0    0.0   \n",
              "6166  commercial_deep_over    0.0    0.0    0.0    0.0    0.0    0.0    0.0   \n",
              "6167  commercial_deep_over    0.0    0.0    0.0    0.0    0.0    0.0    0.0   \n",
              "6168  commercial_deep_over    0.0    0.0    0.0    0.0    0.0    0.0    0.0   \n",
              "6169  commercial_deep_over    0.0    0.0    0.0    0.0    0.0    0.0    0.0   \n",
              "\n",
              "      HOG_7  HOG_8  ...         HOG_54         HOG_55         HOG_56  \\\n",
              "0       0.0    0.0  ...   68171.408486   50995.178607   49846.292805   \n",
              "1       0.0    0.0  ...   85653.172978   72041.922197   95298.416260   \n",
              "2       0.0    0.0  ...   33796.551352   35175.467116   40483.341480   \n",
              "3       0.0    0.0  ...  145069.496700  154224.238439  199113.574641   \n",
              "4       0.0    0.0  ...   75299.250354   88607.862729   87792.734811   \n",
              "...     ...    ...  ...            ...            ...            ...   \n",
              "6165    0.0    0.0  ...   79188.551429   69849.246033   83548.045569   \n",
              "6166    0.0    0.0  ...   73057.535756   73706.509739   82190.402162   \n",
              "6167    0.0    0.0  ...  143711.344295  144683.734758  161908.990471   \n",
              "6168    0.0    0.0  ...  235229.837874  196383.176354  154082.202283   \n",
              "6169    0.0    0.0  ...   65798.694427   70000.769329   75729.326972   \n",
              "\n",
              "             HOG_57         HOG_58         HOG_59         HOG_60  \\\n",
              "0      54544.961134   56974.795029   67681.553805   77300.719139   \n",
              "1      95312.141472   94156.448717  105877.770765  127395.953181   \n",
              "2      47509.183710   43349.957510   36908.825449   37607.046148   \n",
              "3     173884.764389  124403.845931  129003.473228  154102.918413   \n",
              "4      64315.673674   46142.733117   52041.455912   53954.708265   \n",
              "...             ...            ...            ...            ...   \n",
              "6165   98126.391910  103247.634827  117336.601317  117574.150899   \n",
              "6166   85254.856892   77599.943298   78311.235011   73131.614001   \n",
              "6167  129033.759362   97251.256582   96231.904353  113085.131811   \n",
              "6168  103932.283746   76020.319074   85706.597624  119676.991878   \n",
              "6169   64911.930299   56883.530512   61070.291475   64887.432728   \n",
              "\n",
              "             HOG_61         HOG_62         HOG_63  \n",
              "0      59494.280936   59206.347106   55965.857212  \n",
              "1      93530.219220   81444.600991   56112.058450  \n",
              "2      30031.424428   30328.653205   26671.920555  \n",
              "3     122315.785306  145239.214259  124894.088116  \n",
              "4      50569.091691   80920.596946   83016.136410  \n",
              "...             ...            ...            ...  \n",
              "6165   83182.106462   84277.717407   70391.513155  \n",
              "6166   61678.007286   67704.196659   59912.981743  \n",
              "6167  112791.043989  138457.787437  153758.359450  \n",
              "6168  149439.277156  233974.911540  230908.304843  \n",
              "6169   58786.852009   61554.691824   52199.003971  \n",
              "\n",
              "[6170 rows x 65 columns]"
            ],
            "text/html": [
              "\n",
              "  <div id=\"df-16e6bcd2-c1fe-49bf-8570-c18f3c8c344f\" class=\"colab-df-container\">\n",
              "    <div>\n",
              "<style scoped>\n",
              "    .dataframe tbody tr th:only-of-type {\n",
              "        vertical-align: middle;\n",
              "    }\n",
              "\n",
              "    .dataframe tbody tr th {\n",
              "        vertical-align: top;\n",
              "    }\n",
              "\n",
              "    .dataframe thead th {\n",
              "        text-align: right;\n",
              "    }\n",
              "</style>\n",
              "<table border=\"1\" class=\"dataframe\">\n",
              "  <thead>\n",
              "    <tr style=\"text-align: right;\">\n",
              "      <th></th>\n",
              "      <th>Class</th>\n",
              "      <th>HOG_0</th>\n",
              "      <th>HOG_1</th>\n",
              "      <th>HOG_2</th>\n",
              "      <th>HOG_3</th>\n",
              "      <th>HOG_4</th>\n",
              "      <th>HOG_5</th>\n",
              "      <th>HOG_6</th>\n",
              "      <th>HOG_7</th>\n",
              "      <th>HOG_8</th>\n",
              "      <th>...</th>\n",
              "      <th>HOG_54</th>\n",
              "      <th>HOG_55</th>\n",
              "      <th>HOG_56</th>\n",
              "      <th>HOG_57</th>\n",
              "      <th>HOG_58</th>\n",
              "      <th>HOG_59</th>\n",
              "      <th>HOG_60</th>\n",
              "      <th>HOG_61</th>\n",
              "      <th>HOG_62</th>\n",
              "      <th>HOG_63</th>\n",
              "    </tr>\n",
              "  </thead>\n",
              "  <tbody>\n",
              "    <tr>\n",
              "      <th>0</th>\n",
              "      <td>inhouse_unbaked</td>\n",
              "      <td>0.0</td>\n",
              "      <td>0.0</td>\n",
              "      <td>0.0</td>\n",
              "      <td>0.0</td>\n",
              "      <td>0.0</td>\n",
              "      <td>0.0</td>\n",
              "      <td>0.0</td>\n",
              "      <td>0.0</td>\n",
              "      <td>0.0</td>\n",
              "      <td>...</td>\n",
              "      <td>68171.408486</td>\n",
              "      <td>50995.178607</td>\n",
              "      <td>49846.292805</td>\n",
              "      <td>54544.961134</td>\n",
              "      <td>56974.795029</td>\n",
              "      <td>67681.553805</td>\n",
              "      <td>77300.719139</td>\n",
              "      <td>59494.280936</td>\n",
              "      <td>59206.347106</td>\n",
              "      <td>55965.857212</td>\n",
              "    </tr>\n",
              "    <tr>\n",
              "      <th>1</th>\n",
              "      <td>inhouse_unbaked</td>\n",
              "      <td>0.0</td>\n",
              "      <td>0.0</td>\n",
              "      <td>0.0</td>\n",
              "      <td>0.0</td>\n",
              "      <td>0.0</td>\n",
              "      <td>0.0</td>\n",
              "      <td>0.0</td>\n",
              "      <td>0.0</td>\n",
              "      <td>0.0</td>\n",
              "      <td>...</td>\n",
              "      <td>85653.172978</td>\n",
              "      <td>72041.922197</td>\n",
              "      <td>95298.416260</td>\n",
              "      <td>95312.141472</td>\n",
              "      <td>94156.448717</td>\n",
              "      <td>105877.770765</td>\n",
              "      <td>127395.953181</td>\n",
              "      <td>93530.219220</td>\n",
              "      <td>81444.600991</td>\n",
              "      <td>56112.058450</td>\n",
              "    </tr>\n",
              "    <tr>\n",
              "      <th>2</th>\n",
              "      <td>inhouse_unbaked</td>\n",
              "      <td>0.0</td>\n",
              "      <td>0.0</td>\n",
              "      <td>0.0</td>\n",
              "      <td>0.0</td>\n",
              "      <td>0.0</td>\n",
              "      <td>0.0</td>\n",
              "      <td>0.0</td>\n",
              "      <td>0.0</td>\n",
              "      <td>0.0</td>\n",
              "      <td>...</td>\n",
              "      <td>33796.551352</td>\n",
              "      <td>35175.467116</td>\n",
              "      <td>40483.341480</td>\n",
              "      <td>47509.183710</td>\n",
              "      <td>43349.957510</td>\n",
              "      <td>36908.825449</td>\n",
              "      <td>37607.046148</td>\n",
              "      <td>30031.424428</td>\n",
              "      <td>30328.653205</td>\n",
              "      <td>26671.920555</td>\n",
              "    </tr>\n",
              "    <tr>\n",
              "      <th>3</th>\n",
              "      <td>inhouse_unbaked</td>\n",
              "      <td>0.0</td>\n",
              "      <td>0.0</td>\n",
              "      <td>0.0</td>\n",
              "      <td>0.0</td>\n",
              "      <td>0.0</td>\n",
              "      <td>0.0</td>\n",
              "      <td>0.0</td>\n",
              "      <td>0.0</td>\n",
              "      <td>0.0</td>\n",
              "      <td>...</td>\n",
              "      <td>145069.496700</td>\n",
              "      <td>154224.238439</td>\n",
              "      <td>199113.574641</td>\n",
              "      <td>173884.764389</td>\n",
              "      <td>124403.845931</td>\n",
              "      <td>129003.473228</td>\n",
              "      <td>154102.918413</td>\n",
              "      <td>122315.785306</td>\n",
              "      <td>145239.214259</td>\n",
              "      <td>124894.088116</td>\n",
              "    </tr>\n",
              "    <tr>\n",
              "      <th>4</th>\n",
              "      <td>inhouse_unbaked</td>\n",
              "      <td>0.0</td>\n",
              "      <td>0.0</td>\n",
              "      <td>0.0</td>\n",
              "      <td>0.0</td>\n",
              "      <td>0.0</td>\n",
              "      <td>0.0</td>\n",
              "      <td>0.0</td>\n",
              "      <td>0.0</td>\n",
              "      <td>0.0</td>\n",
              "      <td>...</td>\n",
              "      <td>75299.250354</td>\n",
              "      <td>88607.862729</td>\n",
              "      <td>87792.734811</td>\n",
              "      <td>64315.673674</td>\n",
              "      <td>46142.733117</td>\n",
              "      <td>52041.455912</td>\n",
              "      <td>53954.708265</td>\n",
              "      <td>50569.091691</td>\n",
              "      <td>80920.596946</td>\n",
              "      <td>83016.136410</td>\n",
              "    </tr>\n",
              "    <tr>\n",
              "      <th>...</th>\n",
              "      <td>...</td>\n",
              "      <td>...</td>\n",
              "      <td>...</td>\n",
              "      <td>...</td>\n",
              "      <td>...</td>\n",
              "      <td>...</td>\n",
              "      <td>...</td>\n",
              "      <td>...</td>\n",
              "      <td>...</td>\n",
              "      <td>...</td>\n",
              "      <td>...</td>\n",
              "      <td>...</td>\n",
              "      <td>...</td>\n",
              "      <td>...</td>\n",
              "      <td>...</td>\n",
              "      <td>...</td>\n",
              "      <td>...</td>\n",
              "      <td>...</td>\n",
              "      <td>...</td>\n",
              "      <td>...</td>\n",
              "      <td>...</td>\n",
              "    </tr>\n",
              "    <tr>\n",
              "      <th>6165</th>\n",
              "      <td>commercial_deep_over</td>\n",
              "      <td>0.0</td>\n",
              "      <td>0.0</td>\n",
              "      <td>0.0</td>\n",
              "      <td>0.0</td>\n",
              "      <td>0.0</td>\n",
              "      <td>0.0</td>\n",
              "      <td>0.0</td>\n",
              "      <td>0.0</td>\n",
              "      <td>0.0</td>\n",
              "      <td>...</td>\n",
              "      <td>79188.551429</td>\n",
              "      <td>69849.246033</td>\n",
              "      <td>83548.045569</td>\n",
              "      <td>98126.391910</td>\n",
              "      <td>103247.634827</td>\n",
              "      <td>117336.601317</td>\n",
              "      <td>117574.150899</td>\n",
              "      <td>83182.106462</td>\n",
              "      <td>84277.717407</td>\n",
              "      <td>70391.513155</td>\n",
              "    </tr>\n",
              "    <tr>\n",
              "      <th>6166</th>\n",
              "      <td>commercial_deep_over</td>\n",
              "      <td>0.0</td>\n",
              "      <td>0.0</td>\n",
              "      <td>0.0</td>\n",
              "      <td>0.0</td>\n",
              "      <td>0.0</td>\n",
              "      <td>0.0</td>\n",
              "      <td>0.0</td>\n",
              "      <td>0.0</td>\n",
              "      <td>0.0</td>\n",
              "      <td>...</td>\n",
              "      <td>73057.535756</td>\n",
              "      <td>73706.509739</td>\n",
              "      <td>82190.402162</td>\n",
              "      <td>85254.856892</td>\n",
              "      <td>77599.943298</td>\n",
              "      <td>78311.235011</td>\n",
              "      <td>73131.614001</td>\n",
              "      <td>61678.007286</td>\n",
              "      <td>67704.196659</td>\n",
              "      <td>59912.981743</td>\n",
              "    </tr>\n",
              "    <tr>\n",
              "      <th>6167</th>\n",
              "      <td>commercial_deep_over</td>\n",
              "      <td>0.0</td>\n",
              "      <td>0.0</td>\n",
              "      <td>0.0</td>\n",
              "      <td>0.0</td>\n",
              "      <td>0.0</td>\n",
              "      <td>0.0</td>\n",
              "      <td>0.0</td>\n",
              "      <td>0.0</td>\n",
              "      <td>0.0</td>\n",
              "      <td>...</td>\n",
              "      <td>143711.344295</td>\n",
              "      <td>144683.734758</td>\n",
              "      <td>161908.990471</td>\n",
              "      <td>129033.759362</td>\n",
              "      <td>97251.256582</td>\n",
              "      <td>96231.904353</td>\n",
              "      <td>113085.131811</td>\n",
              "      <td>112791.043989</td>\n",
              "      <td>138457.787437</td>\n",
              "      <td>153758.359450</td>\n",
              "    </tr>\n",
              "    <tr>\n",
              "      <th>6168</th>\n",
              "      <td>commercial_deep_over</td>\n",
              "      <td>0.0</td>\n",
              "      <td>0.0</td>\n",
              "      <td>0.0</td>\n",
              "      <td>0.0</td>\n",
              "      <td>0.0</td>\n",
              "      <td>0.0</td>\n",
              "      <td>0.0</td>\n",
              "      <td>0.0</td>\n",
              "      <td>0.0</td>\n",
              "      <td>...</td>\n",
              "      <td>235229.837874</td>\n",
              "      <td>196383.176354</td>\n",
              "      <td>154082.202283</td>\n",
              "      <td>103932.283746</td>\n",
              "      <td>76020.319074</td>\n",
              "      <td>85706.597624</td>\n",
              "      <td>119676.991878</td>\n",
              "      <td>149439.277156</td>\n",
              "      <td>233974.911540</td>\n",
              "      <td>230908.304843</td>\n",
              "    </tr>\n",
              "    <tr>\n",
              "      <th>6169</th>\n",
              "      <td>commercial_deep_over</td>\n",
              "      <td>0.0</td>\n",
              "      <td>0.0</td>\n",
              "      <td>0.0</td>\n",
              "      <td>0.0</td>\n",
              "      <td>0.0</td>\n",
              "      <td>0.0</td>\n",
              "      <td>0.0</td>\n",
              "      <td>0.0</td>\n",
              "      <td>0.0</td>\n",
              "      <td>...</td>\n",
              "      <td>65798.694427</td>\n",
              "      <td>70000.769329</td>\n",
              "      <td>75729.326972</td>\n",
              "      <td>64911.930299</td>\n",
              "      <td>56883.530512</td>\n",
              "      <td>61070.291475</td>\n",
              "      <td>64887.432728</td>\n",
              "      <td>58786.852009</td>\n",
              "      <td>61554.691824</td>\n",
              "      <td>52199.003971</td>\n",
              "    </tr>\n",
              "  </tbody>\n",
              "</table>\n",
              "<p>6170 rows × 65 columns</p>\n",
              "</div>\n",
              "    <div class=\"colab-df-buttons\">\n",
              "\n",
              "  <div class=\"colab-df-container\">\n",
              "    <button class=\"colab-df-convert\" onclick=\"convertToInteractive('df-16e6bcd2-c1fe-49bf-8570-c18f3c8c344f')\"\n",
              "            title=\"Convert this dataframe to an interactive table.\"\n",
              "            style=\"display:none;\">\n",
              "\n",
              "  <svg xmlns=\"http://www.w3.org/2000/svg\" height=\"24px\" viewBox=\"0 -960 960 960\">\n",
              "    <path d=\"M120-120v-720h720v720H120Zm60-500h600v-160H180v160Zm220 220h160v-160H400v160Zm0 220h160v-160H400v160ZM180-400h160v-160H180v160Zm440 0h160v-160H620v160ZM180-180h160v-160H180v160Zm440 0h160v-160H620v160Z\"/>\n",
              "  </svg>\n",
              "    </button>\n",
              "\n",
              "  <style>\n",
              "    .colab-df-container {\n",
              "      display:flex;\n",
              "      gap: 12px;\n",
              "    }\n",
              "\n",
              "    .colab-df-convert {\n",
              "      background-color: #E8F0FE;\n",
              "      border: none;\n",
              "      border-radius: 50%;\n",
              "      cursor: pointer;\n",
              "      display: none;\n",
              "      fill: #1967D2;\n",
              "      height: 32px;\n",
              "      padding: 0 0 0 0;\n",
              "      width: 32px;\n",
              "    }\n",
              "\n",
              "    .colab-df-convert:hover {\n",
              "      background-color: #E2EBFA;\n",
              "      box-shadow: 0px 1px 2px rgba(60, 64, 67, 0.3), 0px 1px 3px 1px rgba(60, 64, 67, 0.15);\n",
              "      fill: #174EA6;\n",
              "    }\n",
              "\n",
              "    .colab-df-buttons div {\n",
              "      margin-bottom: 4px;\n",
              "    }\n",
              "\n",
              "    [theme=dark] .colab-df-convert {\n",
              "      background-color: #3B4455;\n",
              "      fill: #D2E3FC;\n",
              "    }\n",
              "\n",
              "    [theme=dark] .colab-df-convert:hover {\n",
              "      background-color: #434B5C;\n",
              "      box-shadow: 0px 1px 3px 1px rgba(0, 0, 0, 0.15);\n",
              "      filter: drop-shadow(0px 1px 2px rgba(0, 0, 0, 0.3));\n",
              "      fill: #FFFFFF;\n",
              "    }\n",
              "  </style>\n",
              "\n",
              "    <script>\n",
              "      const buttonEl =\n",
              "        document.querySelector('#df-16e6bcd2-c1fe-49bf-8570-c18f3c8c344f button.colab-df-convert');\n",
              "      buttonEl.style.display =\n",
              "        google.colab.kernel.accessAllowed ? 'block' : 'none';\n",
              "\n",
              "      async function convertToInteractive(key) {\n",
              "        const element = document.querySelector('#df-16e6bcd2-c1fe-49bf-8570-c18f3c8c344f');\n",
              "        const dataTable =\n",
              "          await google.colab.kernel.invokeFunction('convertToInteractive',\n",
              "                                                    [key], {});\n",
              "        if (!dataTable) return;\n",
              "\n",
              "        const docLinkHtml = 'Like what you see? Visit the ' +\n",
              "          '<a target=\"_blank\" href=https://colab.research.google.com/notebooks/data_table.ipynb>data table notebook</a>'\n",
              "          + ' to learn more about interactive tables.';\n",
              "        element.innerHTML = '';\n",
              "        dataTable['output_type'] = 'display_data';\n",
              "        await google.colab.output.renderOutput(dataTable, element);\n",
              "        const docLink = document.createElement('div');\n",
              "        docLink.innerHTML = docLinkHtml;\n",
              "        element.appendChild(docLink);\n",
              "      }\n",
              "    </script>\n",
              "  </div>\n",
              "\n",
              "\n",
              "<div id=\"df-8d8eda9c-4c44-4456-b183-fc60ede27f47\">\n",
              "  <button class=\"colab-df-quickchart\" onclick=\"quickchart('df-8d8eda9c-4c44-4456-b183-fc60ede27f47')\"\n",
              "            title=\"Suggest charts\"\n",
              "            style=\"display:none;\">\n",
              "\n",
              "<svg xmlns=\"http://www.w3.org/2000/svg\" height=\"24px\"viewBox=\"0 0 24 24\"\n",
              "     width=\"24px\">\n",
              "    <g>\n",
              "        <path d=\"M19 3H5c-1.1 0-2 .9-2 2v14c0 1.1.9 2 2 2h14c1.1 0 2-.9 2-2V5c0-1.1-.9-2-2-2zM9 17H7v-7h2v7zm4 0h-2V7h2v10zm4 0h-2v-4h2v4z\"/>\n",
              "    </g>\n",
              "</svg>\n",
              "  </button>\n",
              "\n",
              "<style>\n",
              "  .colab-df-quickchart {\n",
              "      --bg-color: #E8F0FE;\n",
              "      --fill-color: #1967D2;\n",
              "      --hover-bg-color: #E2EBFA;\n",
              "      --hover-fill-color: #174EA6;\n",
              "      --disabled-fill-color: #AAA;\n",
              "      --disabled-bg-color: #DDD;\n",
              "  }\n",
              "\n",
              "  [theme=dark] .colab-df-quickchart {\n",
              "      --bg-color: #3B4455;\n",
              "      --fill-color: #D2E3FC;\n",
              "      --hover-bg-color: #434B5C;\n",
              "      --hover-fill-color: #FFFFFF;\n",
              "      --disabled-bg-color: #3B4455;\n",
              "      --disabled-fill-color: #666;\n",
              "  }\n",
              "\n",
              "  .colab-df-quickchart {\n",
              "    background-color: var(--bg-color);\n",
              "    border: none;\n",
              "    border-radius: 50%;\n",
              "    cursor: pointer;\n",
              "    display: none;\n",
              "    fill: var(--fill-color);\n",
              "    height: 32px;\n",
              "    padding: 0;\n",
              "    width: 32px;\n",
              "  }\n",
              "\n",
              "  .colab-df-quickchart:hover {\n",
              "    background-color: var(--hover-bg-color);\n",
              "    box-shadow: 0 1px 2px rgba(60, 64, 67, 0.3), 0 1px 3px 1px rgba(60, 64, 67, 0.15);\n",
              "    fill: var(--button-hover-fill-color);\n",
              "  }\n",
              "\n",
              "  .colab-df-quickchart-complete:disabled,\n",
              "  .colab-df-quickchart-complete:disabled:hover {\n",
              "    background-color: var(--disabled-bg-color);\n",
              "    fill: var(--disabled-fill-color);\n",
              "    box-shadow: none;\n",
              "  }\n",
              "\n",
              "  .colab-df-spinner {\n",
              "    border: 2px solid var(--fill-color);\n",
              "    border-color: transparent;\n",
              "    border-bottom-color: var(--fill-color);\n",
              "    animation:\n",
              "      spin 1s steps(1) infinite;\n",
              "  }\n",
              "\n",
              "  @keyframes spin {\n",
              "    0% {\n",
              "      border-color: transparent;\n",
              "      border-bottom-color: var(--fill-color);\n",
              "      border-left-color: var(--fill-color);\n",
              "    }\n",
              "    20% {\n",
              "      border-color: transparent;\n",
              "      border-left-color: var(--fill-color);\n",
              "      border-top-color: var(--fill-color);\n",
              "    }\n",
              "    30% {\n",
              "      border-color: transparent;\n",
              "      border-left-color: var(--fill-color);\n",
              "      border-top-color: var(--fill-color);\n",
              "      border-right-color: var(--fill-color);\n",
              "    }\n",
              "    40% {\n",
              "      border-color: transparent;\n",
              "      border-right-color: var(--fill-color);\n",
              "      border-top-color: var(--fill-color);\n",
              "    }\n",
              "    60% {\n",
              "      border-color: transparent;\n",
              "      border-right-color: var(--fill-color);\n",
              "    }\n",
              "    80% {\n",
              "      border-color: transparent;\n",
              "      border-right-color: var(--fill-color);\n",
              "      border-bottom-color: var(--fill-color);\n",
              "    }\n",
              "    90% {\n",
              "      border-color: transparent;\n",
              "      border-bottom-color: var(--fill-color);\n",
              "    }\n",
              "  }\n",
              "</style>\n",
              "\n",
              "  <script>\n",
              "    async function quickchart(key) {\n",
              "      const quickchartButtonEl =\n",
              "        document.querySelector('#' + key + ' button');\n",
              "      quickchartButtonEl.disabled = true;  // To prevent multiple clicks.\n",
              "      quickchartButtonEl.classList.add('colab-df-spinner');\n",
              "      try {\n",
              "        const charts = await google.colab.kernel.invokeFunction(\n",
              "            'suggestCharts', [key], {});\n",
              "      } catch (error) {\n",
              "        console.error('Error during call to suggestCharts:', error);\n",
              "      }\n",
              "      quickchartButtonEl.classList.remove('colab-df-spinner');\n",
              "      quickchartButtonEl.classList.add('colab-df-quickchart-complete');\n",
              "    }\n",
              "    (() => {\n",
              "      let quickchartButtonEl =\n",
              "        document.querySelector('#df-8d8eda9c-4c44-4456-b183-fc60ede27f47 button');\n",
              "      quickchartButtonEl.style.display =\n",
              "        google.colab.kernel.accessAllowed ? 'block' : 'none';\n",
              "    })();\n",
              "  </script>\n",
              "</div>\n",
              "    </div>\n",
              "  </div>\n"
            ]
          },
          "metadata": {},
          "execution_count": 133
        }
      ]
    },
    {
      "cell_type": "code",
      "source": [
        "le = LabelEncoder()\n",
        "df['Class'] = le.fit_transform(df['Class'])"
      ],
      "metadata": {
        "id": "Rtekv8GC1yb3"
      },
      "execution_count": 134,
      "outputs": []
    },
    {
      "cell_type": "code",
      "source": [
        "X = df.drop(['Class'], axis=1)\n",
        "y = df['Class']\n",
        "X_train, X_test, y_train, y_test = train_test_split(X, y, test_size=0.2, random_state=42)"
      ],
      "metadata": {
        "id": "kKfGaZW_Ngdi"
      },
      "execution_count": 135,
      "outputs": []
    },
    {
      "cell_type": "markdown",
      "source": [
        "## Logistic Regression"
      ],
      "metadata": {
        "id": "6hI2o4jsR8lg"
      }
    },
    {
      "cell_type": "code",
      "source": [
        "scaler = StandardScaler()\n",
        "X_train_scaled = scaler.fit_transform(X_train)\n",
        "X_test_scaled = scaler.transform(X_test)\n",
        "logistic_regression = LogisticRegression(max_iter=1000)\n",
        "logistic_regression.fit(X_train_scaled, y_train)\n",
        "y_pred = logistic_regression.predict(X_test_scaled)\n",
        "accuracy = accuracy_score(y_test, y_pred)\n",
        "print(f\"Accuracy: {accuracy}\")"
      ],
      "metadata": {
        "colab": {
          "base_uri": "https://localhost:8080/"
        },
        "id": "2lFld0CBR7-P",
        "outputId": "a9aaf4a3-eabf-4406-f812-573b32e09e25"
      },
      "execution_count": 136,
      "outputs": [
        {
          "output_type": "stream",
          "name": "stdout",
          "text": [
            "Accuracy: 0.36223662884927066\n"
          ]
        }
      ]
    },
    {
      "cell_type": "markdown",
      "source": [
        "## SVM"
      ],
      "metadata": {
        "id": "PaWdhYcdSpcQ"
      }
    },
    {
      "cell_type": "code",
      "source": [
        "scaler = StandardScaler()\n",
        "X_train_scaled = scaler.fit_transform(X_train)\n",
        "X_test_scaled = scaler.transform(X_test)\n",
        "svm_classifier = SVC(kernel='linear', C=12.0)\n",
        "svm_classifier.fit(X_train_scaled, y_train)\n",
        "y_pred = svm_classifier.predict(X_test_scaled)\n",
        "accuracy = accuracy_score(y_test, y_pred)\n",
        "print(f\"Accuracy: {accuracy}\")"
      ],
      "metadata": {
        "colab": {
          "base_uri": "https://localhost:8080/"
        },
        "id": "Lq7Mem5eQg1s",
        "outputId": "7e2880cb-d329-44ee-c160-a68ab779c222"
      },
      "execution_count": 137,
      "outputs": [
        {
          "output_type": "stream",
          "name": "stdout",
          "text": [
            "Accuracy: 0.3573743922204214\n"
          ]
        }
      ]
    },
    {
      "cell_type": "markdown",
      "source": [
        "## Random Forest"
      ],
      "metadata": {
        "id": "ivvbqAi-T0L-"
      }
    },
    {
      "cell_type": "code",
      "source": [
        "random_forest = RandomForestClassifier(n_estimators=200, random_state=42)\n",
        "random_forest.fit(X_train, y_train)\n",
        "y_pred = random_forest.predict(X_test)\n",
        "accuracy = accuracy_score(y_test, y_pred)\n",
        "print(f\"Accuracy: {accuracy}\")"
      ],
      "metadata": {
        "colab": {
          "base_uri": "https://localhost:8080/"
        },
        "id": "5PDSnOxUTheV",
        "outputId": "31010f1e-bd75-484e-8b05-71f04ecdb27e"
      },
      "execution_count": 140,
      "outputs": [
        {
          "output_type": "stream",
          "name": "stdout",
          "text": [
            "Accuracy: 0.37925445705024313\n"
          ]
        }
      ]
    },
    {
      "cell_type": "markdown",
      "source": [
        "## KNN"
      ],
      "metadata": {
        "id": "RvcNcgb7U_Cg"
      }
    },
    {
      "cell_type": "code",
      "source": [
        "scaler = StandardScaler()\n",
        "X_train_scaled = scaler.fit_transform(X_train)\n",
        "X_test_scaled = scaler.transform(X_test)\n",
        "knn_classifier = KNeighborsClassifier(n_neighbors=32)\n",
        "knn_classifier.fit(X_train_scaled, y_train)\n",
        "y_pred = knn_classifier.predict(X_test_scaled)\n",
        "accuracy = accuracy_score(y_test, y_pred)\n",
        "print(f\"Accuracy: {accuracy}\")"
      ],
      "metadata": {
        "colab": {
          "base_uri": "https://localhost:8080/"
        },
        "id": "qXib18oCRape",
        "outputId": "13ab00b6-aaa2-444d-c871-394f54f619b7"
      },
      "execution_count": 141,
      "outputs": [
        {
          "output_type": "stream",
          "name": "stdout",
          "text": [
            "Accuracy: 0.31685575364667745\n"
          ]
        }
      ]
    },
    {
      "cell_type": "code",
      "source": [
        "Image.fromarray(lab_img)"
      ],
      "metadata": {
        "colab": {
          "base_uri": "https://localhost:8080/",
          "height": 147
        },
        "id": "EDPF5jP2mrD-",
        "outputId": "24e18dbf-f350-4e2a-b1b7-e2e458888346"
      },
      "execution_count": 143,
      "outputs": [
        {
          "output_type": "execute_result",
          "data": {
            "text/plain": [
              "<PIL.Image.Image image mode=RGB size=130x130>"
            ],
            "image/png": "[encoded data removed]"
          },
          "metadata": {},
          "execution_count": 143
        }
      ]
    },
    {
      "cell_type": "code",
      "source": [],
      "metadata": {
        "id": "K1Bb5h_QnFCD"
      },
      "execution_count": null,
      "outputs": []
    }
  ],
  "metadata": {
    "colab": {
      "provenance": []
    },
    "kernelspec": {
      "display_name": "Python 3",
      "name": "python3"
    },
    "language_info": {
      "name": "python"
    }
  },
  "nbformat": 4,
  "nbformat_minor": 0
}